{
 "cells": [
  {
   "cell_type": "markdown",
   "metadata": {
    "collapsed": true
   },
   "source": [
    "# Artificial Intelligence Nanodegree\n",
    "## Machine Translation Project\n",
    "In this notebook, sections that end with **'(IMPLEMENTATION)'** in the header indicate that the following blocks of code will require additional functionality which you must provide. Please be sure to read the instructions carefully!\n",
    "\n",
    "## Introduction\n",
    "In this notebook, you will build a deep neural network that functions as part of an end-to-end machine translation pipeline. Your completed pipeline will accept English text as input and return the French translation.\n",
    "\n",
    "- **Preprocess** - You'll convert text to sequence of integers.\n",
    "- **Models** Create models which accepts a sequence of integers as input and returns a probability distribution over possible translations. After learning about the basic types of neural networks that are often used for machine translation, you will engage in your own investigations, to design your own model!\n",
    "- **Prediction** Run the model on English text.\n",
    "\n",
    "## Dataset\n",
    "We begin by investigating the dataset that will be used to train and evaluate your pipeline.  The most common datasets used for machine translation are from [WMT](http://www.statmt.org/).  However, that will take a long time to train a neural network on.  We'll be using a dataset we created for this project that contains a small vocabulary.  You'll be able to train your model in a reasonable time with this dataset.\n",
    "### Load Data\n",
    "The data is located in `data/small_vocab_en` and `data/small_vocab_fr`. The `small_vocab_en` file contains English sentences with their French translations in the `small_vocab_fr` file. Load the English and French data from these files from running the cell below."
   ]
  },
  {
   "cell_type": "code",
   "execution_count": 1,
   "metadata": {},
   "outputs": [
    {
     "name": "stderr",
     "output_type": "stream",
     "text": [
      "Using TensorFlow backend.\n"
     ]
    },
    {
     "name": "stdout",
     "output_type": "stream",
     "text": [
      "TF version 1.2.1\n",
      "Keras version 2.0.8\n"
     ]
    }
   ],
   "source": [
    "import tensorflow\n",
    "import keras\n",
    "\n",
    "print('TF version {}'.format(tensorflow.__version__))\n",
    "print('Keras version {}'.format(keras.__version__))"
   ]
  },
  {
   "cell_type": "code",
   "execution_count": 2,
   "metadata": {},
   "outputs": [
    {
     "name": "stdout",
     "output_type": "stream",
     "text": [
      "Dataset Loaded\n"
     ]
    }
   ],
   "source": [
    "import helper\n",
    "\n",
    "\n",
    "# Load English data\n",
    "english_sentences = helper.load_data('data/small_vocab_en')\n",
    "# Load French data\n",
    "french_sentences = helper.load_data('data/small_vocab_fr')\n",
    "\n",
    "print('Dataset Loaded')"
   ]
  },
  {
   "cell_type": "markdown",
   "metadata": {},
   "source": [
    "### Files\n",
    "Each line in `small_vocab_en` contains an English sentence with the respective translation in each line of `small_vocab_fr`.  View the first two lines from each file."
   ]
  },
  {
   "cell_type": "code",
   "execution_count": 3,
   "metadata": {},
   "outputs": [
    {
     "name": "stdout",
     "output_type": "stream",
     "text": [
      "small_vocab_en Line 1:  new jersey is sometimes quiet during autumn , and it is snowy in april .\n",
      "small_vocab_fr Line 1:  new jersey est parfois calme pendant l' automne , et il est neigeux en avril .\n",
      "small_vocab_en Line 2:  the united states is usually chilly during july , and it is usually freezing in november .\n",
      "small_vocab_fr Line 2:  les états-unis est généralement froid en juillet , et il gèle habituellement en novembre .\n"
     ]
    }
   ],
   "source": [
    "for sample_i in range(2):\n",
    "    print('small_vocab_en Line {}:  {}'.format(sample_i + 1, english_sentences[sample_i]))\n",
    "    print('small_vocab_fr Line {}:  {}'.format(sample_i + 1, french_sentences[sample_i]))"
   ]
  },
  {
   "cell_type": "markdown",
   "metadata": {},
   "source": [
    "From looking at the sentences, you can see they have been preprocessed already.  The puncuations have been delimited using spaces. All the text have been converted to lowercase.  This should save you some time, but the text requires more preprocessing.\n",
    "### Vocabulary\n",
    "The complexity of the problem is determined by the complexity of the vocabulary.  A more complex vocabulary is a more complex problem.  Let's look at the complexity of the dataset we'll be working with."
   ]
  },
  {
   "cell_type": "code",
   "execution_count": 4,
   "metadata": {},
   "outputs": [
    {
     "name": "stdout",
     "output_type": "stream",
     "text": [
      "1823250 English words.\n",
      "227 unique English words.\n",
      "10 Most common words in the English dataset:\n",
      "\"is\" \",\" \".\" \"in\" \"it\" \"during\" \"the\" \"but\" \"and\" \"sometimes\"\n",
      "\n",
      "1961295 French words.\n",
      "355 unique French words.\n",
      "10 Most common words in the French dataset:\n",
      "\"est\" \".\" \",\" \"en\" \"il\" \"les\" \"mais\" \"et\" \"la\" \"parfois\"\n"
     ]
    }
   ],
   "source": [
    "import collections\n",
    "\n",
    "\n",
    "english_words_counter = collections.Counter([word for sentence in english_sentences for word in sentence.split()])\n",
    "french_words_counter = collections.Counter([word for sentence in french_sentences for word in sentence.split()])\n",
    "\n",
    "print('{} English words.'.format(len([word for sentence in english_sentences for word in sentence.split()])))\n",
    "print('{} unique English words.'.format(len(english_words_counter)))\n",
    "print('10 Most common words in the English dataset:')\n",
    "print('\"' + '\" \"'.join(list(zip(*english_words_counter.most_common(10)))[0]) + '\"')\n",
    "print()\n",
    "print('{} French words.'.format(len([word for sentence in french_sentences for word in sentence.split()])))\n",
    "print('{} unique French words.'.format(len(french_words_counter)))\n",
    "print('10 Most common words in the French dataset:')\n",
    "print('\"' + '\" \"'.join(list(zip(*french_words_counter.most_common(10)))[0]) + '\"')"
   ]
  },
  {
   "cell_type": "markdown",
   "metadata": {},
   "source": [
    "For comparison, _Alice's Adventures in Wonderland_ contains 2,766 unique words of a total of 15,500 words.\n",
    "## Preprocess\n",
    "For this project, you won't use text data as input to your model. Instead, you'll convert the text into sequences of integers using the following preprocess methods:\n",
    "1. Tokenize the words into ids\n",
    "2. Add padding to make all the sequences the same length.\n",
    "\n",
    "Time to start preprocessing the data...\n",
    "### Tokenize (IMPLEMENTATION)\n",
    "For a neural network to predict on text data, it first has to be turned into data it can understand. Text data like \"dog\" is a sequence of ASCII character encodings.  Since a neural network is a series of multiplication and addition operations, the input data needs to be number(s).\n",
    "\n",
    "We can turn each character into a number or each word into a number.  These are called character and word ids, respectively.  Character ids are used for character level models that generate text predictions for each character.  A word level model uses word ids that generate text predictions for each word.  Word level models tend to learn better, since they are lower in complexity, so we'll use those.\n",
    "\n",
    "Turn each sentence into a sequence of words ids using Keras's [`Tokenizer`](https://keras.io/preprocessing/text/#tokenizer) function. Use this function to tokenize `english_sentences` and `french_sentences` in the cell below.\n",
    "\n",
    "Running the cell will run `tokenize` on sample data and show output for debugging."
   ]
  },
  {
   "cell_type": "code",
   "execution_count": 5,
   "metadata": {},
   "outputs": [
    {
     "name": "stdout",
     "output_type": "stream",
     "text": [
      "{'the': 1, 'quick': 2, 'a': 3, 'brown': 4, 'fox': 5, 'jumps': 6, 'over': 7, 'lazy': 8, 'dog': 9, 'by': 10, 'jove': 11, 'my': 12, 'study': 13, 'of': 14, 'lexicography': 15, 'won': 16, 'prize': 17, 'this': 18, 'is': 19, 'short': 20, 'sentence': 21}\n",
      "\n",
      "Sequence 1 in x\n",
      "  Input:  The quick brown fox jumps over the lazy dog .\n",
      "  Output: [1, 2, 4, 5, 6, 7, 1, 8, 9]\n",
      "Sequence 2 in x\n",
      "  Input:  By Jove , my quick study of lexicography won a prize .\n",
      "  Output: [10, 11, 12, 2, 13, 14, 15, 16, 3, 17]\n",
      "Sequence 3 in x\n",
      "  Input:  This is a short sentence .\n",
      "  Output: [18, 19, 3, 20, 21]\n"
     ]
    }
   ],
   "source": [
    "import project_tests as tests\n",
    "from keras.preprocessing.text import Tokenizer\n",
    "from collections import Counter\n",
    "\n",
    "\n",
    "def tokenize(x):\n",
    "    \"\"\"\n",
    "    Tokenize x\n",
    "    :param x: List of sentences/strings to be tokenized\n",
    "    :return: Tuple of (tokenized x data, tokenizer used to tokenize x)\n",
    "    \"\"\"\n",
    "    word_counter = Counter([word for sentence in x for word in sentence.split()])\n",
    "    num_words = len(word_counter)\n",
    "    tokenizer = Tokenizer(num_words=num_words)\n",
    "    tokenizer.fit_on_texts(x)\n",
    "    tokenized_sentences = tokenizer.texts_to_sequences(x)\n",
    "    return tokenized_sentences, tokenizer\n",
    "tests.test_tokenize(tokenize)\n",
    "\n",
    "# Tokenize Example output\n",
    "text_sentences = [\n",
    "    'The quick brown fox jumps over the lazy dog .',\n",
    "    'By Jove , my quick study of lexicography won a prize .',\n",
    "    'This is a short sentence .']\n",
    "text_tokenized, text_tokenizer = tokenize(text_sentences)\n",
    "print(text_tokenizer.word_index)\n",
    "print()\n",
    "for sample_i, (sent, token_sent) in enumerate(zip(text_sentences, text_tokenized)):\n",
    "    print('Sequence {} in x'.format(sample_i + 1))\n",
    "    print('  Input:  {}'.format(sent))\n",
    "    print('  Output: {}'.format(token_sent))"
   ]
  },
  {
   "cell_type": "markdown",
   "metadata": {},
   "source": [
    "### Padding (IMPLEMENTATION)\n",
    "When batching the sequence of word ids together, each sequence needs to be the same length.  Since sentences are dynamic in length, we can add padding to the end of the sequences to make them the same length.\n",
    "\n",
    "Make sure all the English sequences have the same length and all the French sequences have the same length by adding padding to the **end** of each sequence using Keras's [`pad_sequences`](https://keras.io/preprocessing/sequence/#pad_sequences) function."
   ]
  },
  {
   "cell_type": "code",
   "execution_count": 6,
   "metadata": {},
   "outputs": [
    {
     "name": "stdout",
     "output_type": "stream",
     "text": [
      "Sequence 1 in x\n",
      "  Input:  [1 2 4 5 6 7 1 8 9]\n",
      "  Output: [1 2 4 5 6 7 1 8 9 0]\n",
      "Sequence 2 in x\n",
      "  Input:  [10 11 12  2 13 14 15 16  3 17]\n",
      "  Output: [10 11 12  2 13 14 15 16  3 17]\n",
      "Sequence 3 in x\n",
      "  Input:  [18 19  3 20 21]\n",
      "  Output: [18 19  3 20 21  0  0  0  0  0]\n"
     ]
    }
   ],
   "source": [
    "import numpy as np\n",
    "from keras.preprocessing.sequence import pad_sequences\n",
    "\n",
    "\n",
    "def pad(x, length=None):\n",
    "    \"\"\"\n",
    "    Pad x\n",
    "    :param x: List of sequences.\n",
    "    :param length: Length to pad the sequence to.  If None, use length of longest sequence in x.\n",
    "    :return: Padded numpy array of sequences\n",
    "    \"\"\"\n",
    "    if length is None: length = max([len(s) for s in x])\n",
    "    x_pad = pad_sequences(x, maxlen=length, padding='post')\n",
    "    return x_pad\n",
    "tests.test_pad(pad)\n",
    "\n",
    "# Pad Tokenized output\n",
    "test_pad = pad(text_tokenized)\n",
    "for sample_i, (token_sent, pad_sent) in enumerate(zip(text_tokenized, test_pad)):\n",
    "    print('Sequence {} in x'.format(sample_i + 1))\n",
    "    print('  Input:  {}'.format(np.array(token_sent)))\n",
    "    print('  Output: {}'.format(pad_sent))"
   ]
  },
  {
   "cell_type": "markdown",
   "metadata": {},
   "source": [
    "### Preprocess Pipeline\n",
    "Your focus for this project is to build neural network architecture, so we won't ask you to create a preprocess pipeline.  Instead, we've provided you with the implementation of the `preprocess` function."
   ]
  },
  {
   "cell_type": "code",
   "execution_count": 7,
   "metadata": {},
   "outputs": [
    {
     "name": "stdout",
     "output_type": "stream",
     "text": [
      "Data Preprocessed\n"
     ]
    }
   ],
   "source": [
    "def preprocess(x, y):\n",
    "    \"\"\"\n",
    "    Preprocess x and y\n",
    "    :param x: Feature List of sentences\n",
    "    :param y: Label List of sentences\n",
    "    :return: Tuple of (Preprocessed x, Preprocessed y, x tokenizer, y tokenizer)\n",
    "    \"\"\"\n",
    "    preprocess_x, x_tk = tokenize(x)\n",
    "    preprocess_y, y_tk = tokenize(y)\n",
    "\n",
    "    preprocess_x = pad(preprocess_x)\n",
    "    preprocess_y = pad(preprocess_y)\n",
    "\n",
    "    # Keras's sparse_categorical_crossentropy function requires the labels to be in 3 dimensions\n",
    "    preprocess_y = preprocess_y.reshape(*preprocess_y.shape, 1)\n",
    "\n",
    "    return preprocess_x, preprocess_y, x_tk, y_tk\n",
    "\n",
    "preproc_english_sentences, preproc_french_sentences, english_tokenizer, french_tokenizer =\\\n",
    "    preprocess(english_sentences, french_sentences)\n",
    "\n",
    "print('Data Preprocessed')"
   ]
  },
  {
   "cell_type": "markdown",
   "metadata": {},
   "source": [
    "## Models\n",
    "In this section, you will experiment with various neural network architectures.\n",
    "You will begin by training four relatively simple architectures.\n",
    "- Model 1 is a simple RNN\n",
    "- Model 2 is a RNN with Embedding\n",
    "- Model 3 is a Bidirectional RNN\n",
    "- Model 4 is an optional Encoder-Decoder RNN\n",
    "\n",
    "After experimenting with the four simple architectures, you will construct a deeper architecture that is designed to outperform all four models.\n",
    "### Ids Back to Text\n",
    "The neural network will be translating the input to words ids, which isn't the final form we want.  We want the French translation.  The function `logits_to_text` will bridge the gab between the logits from the neural network to the French translation.  You'll be using this function to better understand the output of the neural network."
   ]
  },
  {
   "cell_type": "code",
   "execution_count": 8,
   "metadata": {},
   "outputs": [
    {
     "name": "stdout",
     "output_type": "stream",
     "text": [
      "`logits_to_text` function loaded.\n"
     ]
    }
   ],
   "source": [
    "def logits_to_text(logits, tokenizer):\n",
    "    \"\"\"\n",
    "    Turn logits from a neural network into text using the tokenizer\n",
    "    :param logits: Logits from a neural network\n",
    "    :param tokenizer: Keras Tokenizer fit on the labels\n",
    "    :return: String that represents the text of the logits\n",
    "    \"\"\"\n",
    "    index_to_words = {id: word for word, id in tokenizer.word_index.items()}\n",
    "    index_to_words[0] = '<PAD>'\n",
    "\n",
    "    return ' '.join([index_to_words[prediction] for prediction in np.argmax(logits, 1)])\n",
    "\n",
    "print('`logits_to_text` function loaded.')"
   ]
  },
  {
   "cell_type": "markdown",
   "metadata": {},
   "source": [
    "### Model 1: RNN (IMPLEMENTATION)\n",
    "![RNN](images/rnn.png)\n",
    "A basic RNN model is a good baseline for sequence data.  In this model, you'll build a RNN that translates English to French."
   ]
  },
  {
   "cell_type": "code",
   "execution_count": 9,
   "metadata": {
    "collapsed": true
   },
   "outputs": [],
   "source": [
    "from keras.layers import GRU, Input, Dense, TimeDistributed\n",
    "from keras.models import Model\n",
    "from keras.layers import Activation\n",
    "from keras.optimizers import Adam\n",
    "from keras.losses import sparse_categorical_crossentropy"
   ]
  },
  {
   "cell_type": "code",
   "execution_count": 10,
   "metadata": {
    "collapsed": true
   },
   "outputs": [],
   "source": [
    "learning_rate = 1e-3"
   ]
  },
  {
   "cell_type": "code",
   "execution_count": 11,
   "metadata": {},
   "outputs": [
    {
     "name": "stdout",
     "output_type": "stream",
     "text": [
      "Train on 110288 samples, validate on 27573 samples\n",
      "Epoch 1/10\n",
      "110288/110288 [==============================] - 4s - loss: 5.1953 - acc: 0.3234 - val_loss: nan - val_acc: 0.4520\n",
      "Epoch 2/10\n",
      "110288/110288 [==============================] - 2s - loss: 3.4088 - acc: 0.4399 - val_loss: nan - val_acc: 0.4546\n",
      "Epoch 3/10\n",
      "110288/110288 [==============================] - 2s - loss: 2.9942 - acc: 0.4630 - val_loss: nan - val_acc: 0.4691\n",
      "Epoch 4/10\n",
      "110288/110288 [==============================] - 2s - loss: 2.9015 - acc: 0.4760 - val_loss: nan - val_acc: 0.4840\n",
      "Epoch 5/10\n",
      "110288/110288 [==============================] - 3s - loss: 2.8516 - acc: 0.4858 - val_loss: nan - val_acc: 0.4903\n",
      "Epoch 6/10\n",
      "110288/110288 [==============================] - 2s - loss: 2.8119 - acc: 0.4891 - val_loss: nan - val_acc: 0.4899\n",
      "Epoch 7/10\n",
      "110288/110288 [==============================] - 2s - loss: 2.7764 - acc: 0.4924 - val_loss: nan - val_acc: 0.4965\n",
      "Epoch 8/10\n",
      "110288/110288 [==============================] - 2s - loss: 2.7392 - acc: 0.4996 - val_loss: nan - val_acc: 0.5092\n",
      "Epoch 9/10\n",
      "110288/110288 [==============================] - 2s - loss: 2.6991 - acc: 0.5106 - val_loss: nan - val_acc: 0.5168\n",
      "Epoch 10/10\n",
      "110288/110288 [==============================] - 2s - loss: 2.6597 - acc: 0.5192 - val_loss: nan - val_acc: 0.5225c: 0.51\n"
     ]
    },
    {
     "data": {
      "text/plain": [
       "<keras.callbacks.History at 0x7f5e0ad2f4a8>"
      ]
     },
     "execution_count": 11,
     "metadata": {},
     "output_type": "execute_result"
    }
   ],
   "source": [
    "def simple_model(input_shape, output_sequence_length, english_vocab_size, french_vocab_size):\n",
    "    \"\"\"\n",
    "    Build and train a basic RNN on x and y\n",
    "    :param input_shape: Tuple of input shape\n",
    "    :param output_sequence_length: Length of output sequence\n",
    "    :param english_vocab_size: Number of unique English words in the dataset\n",
    "    :param french_vocab_size: Number of unique French words in the dataset\n",
    "    :return: Keras model built, but not trained\n",
    "    \"\"\"\n",
    "    # no batch_size\n",
    "    inputs = Input(shape=input_shape[1:])\n",
    "    x = GRU(output_sequence_length, return_sequences=True)(inputs)\n",
    "    x = TimeDistributed(Dense(french_vocab_size, activation='relu'))(x)\n",
    "    \n",
    "    outputs = Activation('softmax')(x)\n",
    "    \n",
    "    model = Model(inputs, outputs)\n",
    "    model.compile(loss=sparse_categorical_crossentropy,\n",
    "                  optimizer=Adam(learning_rate),\n",
    "                  metrics=['accuracy'])\n",
    "    return model\n",
    "tests.test_simple_model(simple_model)\n",
    "\n",
    "\n",
    "# Reshaping the input to work with a basic RNN\n",
    "tmp_x = pad(preproc_english_sentences, preproc_french_sentences.shape[1])\n",
    "tmp_x = tmp_x.reshape((-1, preproc_french_sentences.shape[-2], 1))\n",
    "\n",
    "# Train the neural network\n",
    "simple_rnn_model = simple_model(\n",
    "    tmp_x.shape,\n",
    "    preproc_french_sentences.shape[1],\n",
    "    len(english_tokenizer.word_index),\n",
    "    len(french_tokenizer.word_index))\n",
    "simple_rnn_model.fit(tmp_x, preproc_french_sentences, batch_size=1024, epochs=10, validation_split=0.2)"
   ]
  },
  {
   "cell_type": "code",
   "execution_count": 12,
   "metadata": {},
   "outputs": [
    {
     "name": "stdout",
     "output_type": "stream",
     "text": [
      "paris les est est est est est mais mais est est en en <PAD> <PAD> <PAD> <PAD> <PAD> <PAD> <PAD> <PAD>\n",
      "_________________________________________________________________\n",
      "Layer (type)                 Output Shape              Param #   \n",
      "=================================================================\n",
      "input_2 (InputLayer)         (None, 21, 1)             0         \n",
      "_________________________________________________________________\n",
      "gru_2 (GRU)                  (None, 21, 21)            1449      \n",
      "_________________________________________________________________\n",
      "time_distributed_2 (TimeDist (None, 21, 344)           7568      \n",
      "_________________________________________________________________\n",
      "activation_2 (Activation)    (None, 21, 344)           0         \n",
      "=================================================================\n",
      "Total params: 9,017\n",
      "Trainable params: 9,017\n",
      "Non-trainable params: 0\n",
      "_________________________________________________________________\n"
     ]
    }
   ],
   "source": [
    "# Print prediction(s)\n",
    "print(logits_to_text(simple_rnn_model.predict(tmp_x[:1])[0], french_tokenizer))\n",
    "simple_rnn_model.summary()"
   ]
  },
  {
   "cell_type": "markdown",
   "metadata": {},
   "source": [
    "### Model 2: Embedding (IMPLEMENTATION)\n",
    "![RNN](images/embedding.png)\n",
    "You've turned the words into ids, but there's a better representation of a word.  This is called word embeddings.  An embedding is a vector representation of the word that is close to similar words in n-dimensional space, where the n represents the size of the embedding vectors.\n",
    "\n",
    "In this model, you'll create a RNN model using embedding."
   ]
  },
  {
   "cell_type": "code",
   "execution_count": 13,
   "metadata": {
    "scrolled": true
   },
   "outputs": [
    {
     "name": "stdout",
     "output_type": "stream",
     "text": [
      "Train on 110288 samples, validate on 27573 samples\n",
      "Epoch 1/40\n",
      "110288/110288 [==============================] - 3s - loss: 4.7781 - acc: 0.4202 - val_loss: nan - val_acc: 0.4234\n",
      "Epoch 2/40\n",
      "110288/110288 [==============================] - 3s - loss: 3.3720 - acc: 0.4399 - val_loss: nan - val_acc: 0.4703\n",
      "Epoch 3/40\n",
      "110288/110288 [==============================] - 3s - loss: 2.5060 - acc: 0.5306 - val_loss: nan - val_acc: 0.5970\n",
      "Epoch 4/40\n",
      "110288/110288 [==============================] - 3s - loss: 1.9654 - acc: 0.6218 - val_loss: nan - val_acc: 0.6386\n",
      "Epoch 5/40\n",
      "110288/110288 [==============================] - 3s - loss: 1.6486 - acc: 0.6547 - val_loss: nan - val_acc: 0.6676\n",
      "Epoch 6/40\n",
      "110288/110288 [==============================] - 3s - loss: 1.4523 - acc: 0.6740 - val_loss: nan - val_acc: 0.6799\n",
      "Epoch 7/40\n",
      "110288/110288 [==============================] - 3s - loss: 1.3235 - acc: 0.6858 - val_loss: nan - val_acc: 0.6938\n",
      "Epoch 8/40\n",
      "110288/110288 [==============================] - 3s - loss: 1.2277 - acc: 0.7030 - val_loss: nan - val_acc: 0.7100\n",
      "Epoch 9/40\n",
      "110288/110288 [==============================] - 3s - loss: 1.1480 - acc: 0.7149 - val_loss: nan - val_acc: 0.7204\n",
      "Epoch 10/40\n",
      "110288/110288 [==============================] - 3s - loss: 1.0816 - acc: 0.7263 - val_loss: nan - val_acc: 0.7331\n",
      "Epoch 11/40\n",
      "110288/110288 [==============================] - 3s - loss: 1.0262 - acc: 0.7392 - val_loss: nan - val_acc: 0.7467\n",
      "Epoch 12/40\n",
      "110288/110288 [==============================] - 3s - loss: 0.9771 - acc: 0.7538 - val_loss: nan - val_acc: 0.7586\n",
      "Epoch 13/40\n",
      "110288/110288 [==============================] - 3s - loss: 0.9375 - acc: 0.7641 - val_loss: nan - val_acc: 0.7706\n",
      "Epoch 14/40\n",
      "110288/110288 [==============================] - 3s - loss: 0.9064 - acc: 0.7713 - val_loss: nan - val_acc: 0.7751\n",
      "Epoch 15/40\n",
      "110288/110288 [==============================] - 3s - loss: 0.8801 - acc: 0.7770 - val_loss: nan - val_acc: 0.7808\n",
      "Epoch 16/40\n",
      "110288/110288 [==============================] - 3s - loss: 0.8584 - acc: 0.7820 - val_loss: nan - val_acc: 0.7838\n",
      "Epoch 17/40\n",
      "110288/110288 [==============================] - 3s - loss: 0.8387 - acc: 0.7869 - val_loss: nan - val_acc: 0.7899\n",
      "Epoch 18/40\n",
      "110288/110288 [==============================] - 3s - loss: 0.8205 - acc: 0.7911 - val_loss: nan - val_acc: 0.7923\n",
      "Epoch 19/40\n",
      "110288/110288 [==============================] - 3s - loss: 0.8049 - acc: 0.7949 - val_loss: nan - val_acc: 0.7963\n",
      "Epoch 20/40\n",
      "110288/110288 [==============================] - 3s - loss: 0.7898 - acc: 0.7991 - val_loss: nan - val_acc: 0.8008\n",
      "Epoch 21/40\n",
      "110288/110288 [==============================] - 3s - loss: 0.7766 - acc: 0.8024 - val_loss: nan - val_acc: 0.8045\n",
      "Epoch 22/40\n",
      "110288/110288 [==============================] - 3s - loss: 0.7639 - acc: 0.8054 - val_loss: nan - val_acc: 0.8066\n",
      "Epoch 23/40\n",
      "110288/110288 [==============================] - 3s - loss: 0.7523 - acc: 0.8081 - val_loss: nan - val_acc: 0.8101\n",
      "Epoch 24/40\n",
      "110288/110288 [==============================] - 3s - loss: 0.7403 - acc: 0.8109 - val_loss: nan - val_acc: 0.8125\n",
      "Epoch 25/40\n",
      "110288/110288 [==============================] - 3s - loss: 0.7298 - acc: 0.8136 - val_loss: nan - val_acc: 0.8149\n",
      "Epoch 26/40\n",
      "110288/110288 [==============================] - 3s - loss: 0.7191 - acc: 0.8163 - val_loss: nan - val_acc: 0.8182\n",
      "Epoch 27/40\n",
      "110288/110288 [==============================] - 3s - loss: 0.7092 - acc: 0.8193 - val_loss: nan - val_acc: 0.8211\n",
      "Epoch 28/40\n",
      "110288/110288 [==============================] - 3s - loss: 0.6993 - acc: 0.8220 - val_loss: nan - val_acc: 0.8240\n",
      "Epoch 29/40\n",
      "110288/110288 [==============================] - 3s - loss: 0.6896 - acc: 0.8245 - val_loss: nan - val_acc: 0.8254\n",
      "Epoch 30/40\n",
      "110288/110288 [==============================] - 3s - loss: 0.6800 - acc: 0.8268 - val_loss: nan - val_acc: 0.8276\n",
      "Epoch 31/40\n",
      "110288/110288 [==============================] - 3s - loss: 0.6716 - acc: 0.8287 - val_loss: nan - val_acc: 0.8296\n",
      "Epoch 32/40\n",
      "110288/110288 [==============================] - 3s - loss: 0.6647 - acc: 0.8307 - val_loss: nan - val_acc: 0.8314\n",
      "Epoch 33/40\n",
      "110288/110288 [==============================] - 3s - loss: 0.6582 - acc: 0.8327 - val_loss: nan - val_acc: 0.8328\n",
      "Epoch 34/40\n",
      "110288/110288 [==============================] - 3s - loss: 0.6513 - acc: 0.8348 - val_loss: nan - val_acc: 0.8350\n",
      "Epoch 35/40\n",
      "110288/110288 [==============================] - 3s - loss: 0.6454 - acc: 0.8364 - val_loss: nan - val_acc: 0.8376\n",
      "Epoch 36/40\n",
      "110288/110288 [==============================] - 3s - loss: 0.6396 - acc: 0.8383 - val_loss: nan - val_acc: 0.8384\n",
      "Epoch 37/40\n",
      "110288/110288 [==============================] - 3s - loss: 0.6348 - acc: 0.8393 - val_loss: nan - val_acc: 0.8407\n",
      "Epoch 38/40\n",
      "110288/110288 [==============================] - 3s - loss: 0.6293 - acc: 0.8408 - val_loss: nan - val_acc: 0.8407\n",
      "Epoch 39/40\n",
      "110288/110288 [==============================] - 3s - loss: 0.6246 - acc: 0.8420 - val_loss: nan - val_acc: 0.8428\n",
      "Epoch 40/40\n",
      "110288/110288 [==============================] - 3s - loss: 0.6204 - acc: 0.8432 - val_loss: nan - val_acc: 0.8437\n"
     ]
    },
    {
     "data": {
      "text/plain": [
       "<keras.callbacks.History at 0x7f5e08c59a90>"
      ]
     },
     "execution_count": 13,
     "metadata": {},
     "output_type": "execute_result"
    }
   ],
   "source": [
    "from keras.layers.embeddings import Embedding\n",
    "\n",
    "\n",
    "def embed_model(input_shape, output_sequence_length, english_vocab_size, french_vocab_size):\n",
    "    \"\"\"\n",
    "    Build and train a RNN model using word embedding on x and y\n",
    "    :param input_shape: Tuple of input shape\n",
    "    :param output_sequence_length: Length of output sequence\n",
    "    :param english_vocab_size: Number of unique English words in the dataset\n",
    "    :param french_vocab_size: Number of unique French words in the dataset\n",
    "    :return: Keras model built, but not trained\n",
    "    \"\"\"\n",
    "    inputs = Input(shape=input_shape[1:])\n",
    "    x = Embedding(english_vocab_size, french_vocab_size)(inputs)\n",
    "    x = GRU(output_sequence_length, return_sequences=True)(x)\n",
    "    x = TimeDistributed(Dense(french_vocab_size, activation='relu'))(x)\n",
    "    \n",
    "    outputs = Activation('softmax')(x)\n",
    "    \n",
    "    model = Model(inputs, outputs)\n",
    "    model.compile(loss=sparse_categorical_crossentropy,\n",
    "                  optimizer=Adam(learning_rate),\n",
    "                  metrics=['accuracy'])\n",
    "    return model\n",
    "tests.test_embed_model(embed_model)\n",
    "\n",
    "\n",
    "# Reshape the input\n",
    "tmp_x = pad(preproc_english_sentences, preproc_french_sentences.shape[1])\n",
    "tmp_x = tmp_x.reshape((-1, preproc_french_sentences.shape[-2]))\n",
    "\n",
    "# Train the neural network\n",
    "embed_model = embed_model(tmp_x.shape,\n",
    "                          preproc_french_sentences.shape[1],\n",
    "                          len(english_tokenizer.word_index),\n",
    "                          len(french_tokenizer.word_index))\n",
    "\n",
    "embed_model.fit(tmp_x,\n",
    "                preproc_french_sentences,\n",
    "                batch_size=1024,\n",
    "                epochs=40,\n",
    "                validation_split=0.2)"
   ]
  },
  {
   "cell_type": "code",
   "execution_count": 14,
   "metadata": {},
   "outputs": [
    {
     "name": "stdout",
     "output_type": "stream",
     "text": [
      "_________________________________________________________________\n",
      "Layer (type)                 Output Shape              Param #   \n",
      "=================================================================\n",
      "input_4 (InputLayer)         (None, 21)                0         \n",
      "_________________________________________________________________\n",
      "embedding_2 (Embedding)      (None, 21, 344)           68456     \n",
      "_________________________________________________________________\n",
      "gru_4 (GRU)                  (None, 21, 21)            23058     \n",
      "_________________________________________________________________\n",
      "time_distributed_4 (TimeDist (None, 21, 344)           7568      \n",
      "_________________________________________________________________\n",
      "activation_4 (Activation)    (None, 21, 344)           0         \n",
      "=================================================================\n",
      "Total params: 99,082\n",
      "Trainable params: 99,082\n",
      "Non-trainable params: 0\n",
      "_________________________________________________________________\n",
      "new jersey est parfois calme en l' et il il est neigeux chaud en avril <PAD> <PAD> <PAD> <PAD> <PAD> <PAD>\n"
     ]
    }
   ],
   "source": [
    "# Print prediction(s)\n",
    "embed_model.summary()\n",
    "print(logits_to_text(embed_model.predict(tmp_x[:1])[0], french_tokenizer))"
   ]
  },
  {
   "cell_type": "markdown",
   "metadata": {},
   "source": [
    "### Model 3: Bidirectional RNNs (IMPLEMENTATION)\n",
    "![RNN](images/bidirectional.png)\n",
    "One restriction of a RNN is that it can't see the future input, only the past.  This is where bidirectional recurrent neural networks come in.  They are able to see the future data."
   ]
  },
  {
   "cell_type": "code",
   "execution_count": 15,
   "metadata": {
    "scrolled": true
   },
   "outputs": [
    {
     "name": "stdout",
     "output_type": "stream",
     "text": [
      "Train on 110288 samples, validate on 27573 samples\n",
      "Epoch 1/40\n",
      "110288/110288 [==============================] - 10s - loss: 2.8824 - acc: 0.5084 - val_loss: nan - val_acc: 0.5641\n",
      "Epoch 2/40\n",
      "110288/110288 [==============================] - 10s - loss: 2.2140 - acc: 0.5857 - val_loss: nan - val_acc: 0.6026\n",
      "Epoch 3/40\n",
      "110288/110288 [==============================] - 10s - loss: 2.0874 - acc: 0.6125 - val_loss: nan - val_acc: 0.6270\n",
      "Epoch 4/40\n",
      "110288/110288 [==============================] - 10s - loss: 2.0048 - acc: 0.6359 - val_loss: nan - val_acc: 0.6466\n",
      "Epoch 5/40\n",
      "110288/110288 [==============================] - 9s - loss: 1.9196 - acc: 0.6538 - val_loss: nan - val_acc: 0.6578\n",
      "Epoch 6/40\n",
      "110288/110288 [==============================] - 10s - loss: 1.8267 - acc: 0.6656 - val_loss: nan - val_acc: 0.6696\n",
      "Epoch 7/40\n",
      "110288/110288 [==============================] - 10s - loss: 1.7828 - acc: 0.6722 - val_loss: nan - val_acc: 0.6763\n",
      "Epoch 8/40\n",
      "110288/110288 [==============================] - 10s - loss: 1.7543 - acc: 0.6776 - val_loss: nan - val_acc: 0.6810\n",
      "Epoch 9/40\n",
      "110288/110288 [==============================] - 10s - loss: 1.7316 - acc: 0.6825 - val_loss: nan - val_acc: 0.6857\n",
      "Epoch 10/40\n",
      "110288/110288 [==============================] - 10s - loss: 1.7112 - acc: 0.6875 - val_loss: nan - val_acc: 0.6889\n",
      "Epoch 11/40\n",
      "110288/110288 [==============================] - 10s - loss: 1.6922 - acc: 0.6916 - val_loss: nan - val_acc: 0.6931\n",
      "Epoch 12/40\n",
      "110288/110288 [==============================] - 10s - loss: 1.6752 - acc: 0.6952 - val_loss: nan - val_acc: 0.6961\n",
      "Epoch 13/40\n",
      "110288/110288 [==============================] - 10s - loss: 1.6584 - acc: 0.6976 - val_loss: nan - val_acc: 0.7014\n",
      "Epoch 14/40\n",
      "110288/110288 [==============================] - 10s - loss: 1.6301 - acc: 0.7035 - val_loss: nan - val_acc: 0.7047\n",
      "Epoch 15/40\n",
      "110288/110288 [==============================] - 10s - loss: 1.6116 - acc: 0.7078 - val_loss: nan - val_acc: 0.7104\n",
      "Epoch 16/40\n",
      "110288/110288 [==============================] - 9s - loss: 1.5991 - acc: 0.7100 - val_loss: nan - val_acc: 0.7136\n",
      "Epoch 17/40\n",
      "110288/110288 [==============================] - 10s - loss: 1.5775 - acc: 0.7154 - val_loss: nan - val_acc: 0.7159\n",
      "Epoch 18/40\n",
      "110288/110288 [==============================] - 10s - loss: 1.5764 - acc: 0.7143 - val_loss: nan - val_acc: 0.7201\n",
      "Epoch 19/40\n",
      "110288/110288 [==============================] - 10s - loss: 1.5523 - acc: 0.7216 - val_loss: nan - val_acc: 0.7214\n",
      "Epoch 20/40\n",
      "110288/110288 [==============================] - 10s - loss: 1.5397 - acc: 0.7245 - val_loss: nan - val_acc: 0.7251\n",
      "Epoch 21/40\n",
      "110288/110288 [==============================] - 10s - loss: 1.5431 - acc: 0.7228 - val_loss: nan - val_acc: 0.7284\n",
      "Epoch 22/40\n",
      "110288/110288 [==============================] - 10s - loss: 1.5186 - acc: 0.7298 - val_loss: nan - val_acc: 0.7309\n",
      "Epoch 23/40\n",
      "110288/110288 [==============================] - 10s - loss: 1.5108 - acc: 0.7311 - val_loss: nan - val_acc: 0.7310\n",
      "Epoch 24/40\n",
      "110288/110288 [==============================] - 10s - loss: 1.5038 - acc: 0.7326 - val_loss: nan - val_acc: 0.7327\n",
      "Epoch 25/40\n",
      "110288/110288 [==============================] - 10s - loss: 1.5061 - acc: 0.7311 - val_loss: nan - val_acc: 0.7349\n",
      "Epoch 26/40\n",
      "110288/110288 [==============================] - 10s - loss: 1.4858 - acc: 0.7365 - val_loss: nan - val_acc: 0.7374\n",
      "Epoch 27/40\n",
      "110288/110288 [==============================] - 10s - loss: 1.4844 - acc: 0.7364 - val_loss: nan - val_acc: 0.7364\n",
      "Epoch 28/40\n",
      "110288/110288 [==============================] - 10s - loss: 1.4747 - acc: 0.7386 - val_loss: nan - val_acc: 0.7391\n",
      "Epoch 29/40\n",
      "110288/110288 [==============================] - 10s - loss: 1.4671 - acc: 0.7401 - val_loss: nan - val_acc: 0.7386\n",
      "Epoch 30/40\n",
      "110288/110288 [==============================] - 9s - loss: 1.4638 - acc: 0.7410 - val_loss: nan - val_acc: 0.7431\n",
      "Epoch 31/40\n",
      "110288/110288 [==============================] - 10s - loss: 1.4579 - acc: 0.7420 - val_loss: nan - val_acc: 0.7429\n",
      "Epoch 32/40\n",
      "110288/110288 [==============================] - 10s - loss: 1.5135 - acc: 0.7303 - val_loss: nan - val_acc: 0.7260\n",
      "Epoch 33/40\n",
      "110288/110288 [==============================] - 10s - loss: 1.4914 - acc: 0.7353 - val_loss: nan - val_acc: 0.7361\n",
      "Epoch 34/40\n",
      "110288/110288 [==============================] - 10s - loss: 1.4766 - acc: 0.7385 - val_loss: nan - val_acc: 0.7437\n",
      "Epoch 35/40\n",
      "110288/110288 [==============================] - 10s - loss: 1.4676 - acc: 0.7397 - val_loss: nan - val_acc: 0.7464\n",
      "Epoch 36/40\n",
      "110288/110288 [==============================] - 9s - loss: 1.4419 - acc: 0.7472 - val_loss: nan - val_acc: 0.7479\n",
      "Epoch 37/40\n",
      "110288/110288 [==============================] - 10s - loss: 1.4338 - acc: 0.7486 - val_loss: nan - val_acc: 0.7504\n",
      "Epoch 38/40\n",
      "110288/110288 [==============================] - 10s - loss: 1.4447 - acc: 0.7449 - val_loss: nan - val_acc: 0.7497\n",
      "Epoch 39/40\n",
      "110288/110288 [==============================] - 10s - loss: 1.4155 - acc: 0.7536 - val_loss: nan - val_acc: 0.7547\n",
      "Epoch 40/40\n",
      "110288/110288 [==============================] - 10s - loss: 1.4488 - acc: 0.7454 - val_loss: nan - val_acc: 0.7429\n"
     ]
    },
    {
     "data": {
      "text/plain": [
       "<keras.callbacks.History at 0x7f5e06ab9e80>"
      ]
     },
     "execution_count": 15,
     "metadata": {},
     "output_type": "execute_result"
    }
   ],
   "source": [
    "from keras.layers import Bidirectional\n",
    "\n",
    "\n",
    "def bd_model(input_shape, output_sequence_length, english_vocab_size, french_vocab_size):\n",
    "    \"\"\"\n",
    "    Build and train a bidirectional RNN model on x and y\n",
    "    :param input_shape: Tuple of input shape\n",
    "    :param output_sequence_length: Length of output sequence\n",
    "    :param english_vocab_size: Number of unique English words in the dataset\n",
    "    :param french_vocab_size: Number of unique French words in the dataset\n",
    "    :return: Keras model built, but not trained\n",
    "    \"\"\"\n",
    "    inputs = Input(shape=input_shape[1:])\n",
    "    x = Bidirectional(GRU(128, return_sequences=True))(inputs)\n",
    "    x = Bidirectional(GRU(128, return_sequences=True))(x)\n",
    "    x = TimeDistributed(Dense(french_vocab_size, activation='relu'))(x)\n",
    "    \n",
    "    outputs = Activation('softmax')(x)\n",
    "    \n",
    "    model=Model(inputs, outputs)\n",
    "    model.compile(loss=sparse_categorical_crossentropy,\n",
    "                  optimizer=Adam(learning_rate),\n",
    "                  metrics=['accuracy'])\n",
    "    \n",
    "    return model\n",
    "tests.test_bd_model(bd_model)\n",
    "\n",
    "# reshape input\n",
    "tmp_x = pad(preproc_english_sentences, preproc_french_sentences.shape[1])\n",
    "tmp_x = tmp_x.reshape((-1, preproc_french_sentences.shape[-2], 1))\n",
    "\n",
    "\n",
    "# train model\n",
    "bd_model = bd_model(tmp_x.shape,\n",
    "                    preproc_french_sentences.shape[1],\n",
    "                    len(english_tokenizer.word_index),\n",
    "                    len(french_tokenizer.word_index))\n",
    "\n",
    "bd_model.fit(tmp_x,\n",
    "             preproc_french_sentences,\n",
    "             batch_size=1024,\n",
    "             epochs=40,\n",
    "             validation_split=0.2)"
   ]
  },
  {
   "cell_type": "code",
   "execution_count": 16,
   "metadata": {},
   "outputs": [
    {
     "name": "stdout",
     "output_type": "stream",
     "text": [
      "_________________________________________________________________\n",
      "Layer (type)                 Output Shape              Param #   \n",
      "=================================================================\n",
      "input_6 (InputLayer)         (None, 21, 1)             0         \n",
      "_________________________________________________________________\n",
      "bidirectional_3 (Bidirection (None, 21, 256)           99840     \n",
      "_________________________________________________________________\n",
      "bidirectional_4 (Bidirection (None, 21, 256)           295680    \n",
      "_________________________________________________________________\n",
      "time_distributed_6 (TimeDist (None, 21, 344)           88408     \n",
      "_________________________________________________________________\n",
      "activation_6 (Activation)    (None, 21, 344)           0         \n",
      "=================================================================\n",
      "Total params: 483,928\n",
      "Trainable params: 483,928\n",
      "Non-trainable params: 0\n",
      "_________________________________________________________________\n",
      "new <PAD> est parfois calme pendant l' et et est et est chaud <PAD> <PAD> <PAD> <PAD> <PAD> <PAD> <PAD> <PAD>\n"
     ]
    }
   ],
   "source": [
    "# Print prediction(s)\n",
    "bd_model.summary()\n",
    "print(logits_to_text(bd_model.predict(tmp_x[:1])[0], french_tokenizer))"
   ]
  },
  {
   "cell_type": "markdown",
   "metadata": {},
   "source": [
    "### Model 4: Encoder-Decoder (OPTIONAL)\n",
    "Time to look at encoder-decoder models.  This model is made up of an encoder and decoder. The encoder creates a matrix representation of the sentence.  The decoder takes this matrix as input and predicts the translation as output.\n",
    "\n",
    "Create an encoder-decoder model in the cell below."
   ]
  },
  {
   "cell_type": "code",
   "execution_count": null,
   "metadata": {},
   "outputs": [],
   "source": [
    "from keras.layers import RepeatVector\n",
    "\n",
    "\n",
    "def encdec_model(input_shape, output_sequence_length, english_vocab_size, french_vocab_size):\n",
    "    \"\"\"\n",
    "    Build and train an encoder-decoder model on x and y\n",
    "    :param input_shape: Tuple of input shape\n",
    "    :param output_sequence_length: Length of output sequence\n",
    "    :param english_vocab_size: Number of unique English words in the dataset\n",
    "    :param french_vocab_size: Number of unique French words in the dataset\n",
    "    :return: Keras model built, but not trained\n",
    "    \"\"\"\n",
    "    # OPTIONAL: Implement\n",
    "    return None\n",
    "tests.test_encdec_model(encdec_model)\n",
    "\n",
    "\n",
    "# OPTIONAL: Train and Print prediction(s)"
   ]
  },
  {
   "cell_type": "markdown",
   "metadata": {},
   "source": [
    "### Model 5: Custom (IMPLEMENTATION)\n",
    "Use everything you learned from the previous models to create a model that incorporates embedding and a bidirectional rnn into one model."
   ]
  },
  {
   "cell_type": "code",
   "execution_count": 21,
   "metadata": {
    "scrolled": true
   },
   "outputs": [
    {
     "name": "stdout",
     "output_type": "stream",
     "text": [
      "Final Model Loaded\n"
     ]
    }
   ],
   "source": [
    "from keras.layers import Embedding\n",
    "\n",
    "def model_final(input_shape, output_sequence_length, english_vocab_size, french_vocab_size):\n",
    "    \"\"\"\n",
    "    Build and train a model that incorporates embedding, encoder-decoder, and bidirectional RNN on x and y\n",
    "    :param input_shape: Tuple of input shape\n",
    "    :param output_sequence_length: Length of output sequence\n",
    "    :param english_vocab_size: Number of unique English words in the dataset\n",
    "    :param french_vocab_size: Number of unique French words in the dataset\n",
    "    :return: Keras model built, but not trained\n",
    "    \"\"\"\n",
    "    \n",
    "    inputs = Input(shape=input_shape[1:], name='inp')\n",
    "    x = Embedding(english_vocab_size,\n",
    "                  french_vocab_size,\n",
    "                  input_length=output_sequence_length,\n",
    "                  name='emb')(inputs)\n",
    "    x = Bidirectional(GRU(128, return_sequences=True, name='bid_1'))(x)\n",
    "    x = Bidirectional(GRU(128, return_sequences=True, name='bid_2'))(x)\n",
    "    x = GRU(128, return_sequences=True, name='gru')(x)\n",
    "    x = TimeDistributed(Dense(french_vocab_size, name='fc'))(x)\n",
    "    \n",
    "    outputs = Activation('softmax')(x)\n",
    "    \n",
    "    model = Model(inputs, outputs)\n",
    "    model.compile(loss=sparse_categorical_crossentropy,\n",
    "                  optimizer=Adam(learning_rate),\n",
    "                  metrics=['accuracy'])\n",
    "    return model\n",
    "tests.test_model_final(model_final)\n",
    "\n",
    "print('Final Model Loaded')"
   ]
  },
  {
   "cell_type": "markdown",
   "metadata": {},
   "source": [
    "## Prediction (IMPLEMENTATION)"
   ]
  },
  {
   "cell_type": "code",
   "execution_count": 22,
   "metadata": {},
   "outputs": [
    {
     "name": "stdout",
     "output_type": "stream",
     "text": [
      "Train on 110288 samples, validate on 27573 samples\n",
      "Epoch 1/40\n"
     ]
    },
    {
     "ename": "InvalidArgumentError",
     "evalue": "Input to reshape is a tensor with 1966080 values, but the requested shape requires a multiple of 2688\n\t [[Node: bidirectional_12/Reshape_1 = Reshape[T=DT_FLOAT, Tshape=DT_INT32, _device=\"/job:localhost/replica:0/task:0/gpu:0\"](bidirectional_12/BiasAdd, bidirectional_12/stack)]]\n\t [[Node: loss_9/mul/_271 = _Recv[client_terminated=false, recv_device=\"/job:localhost/replica:0/task:0/cpu:0\", send_device=\"/job:localhost/replica:0/task:0/gpu:0\", send_device_incarnation=1, tensor_name=\"edge_8510_loss_9/mul\", tensor_type=DT_FLOAT, _device=\"/job:localhost/replica:0/task:0/cpu:0\"]()]]\n\nCaused by op 'bidirectional_12/Reshape_1', defined at:\n  File \"/home/mark/.conda/envs/dl/lib/python3.6/runpy.py\", line 193, in _run_module_as_main\n    \"__main__\", mod_spec)\n  File \"/home/mark/.conda/envs/dl/lib/python3.6/runpy.py\", line 85, in _run_code\n    exec(code, run_globals)\n  File \"/home/mark/.conda/envs/dl/lib/python3.6/site-packages/ipykernel_launcher.py\", line 16, in <module>\n    app.launch_new_instance()\n  File \"/home/mark/.conda/envs/dl/lib/python3.6/site-packages/traitlets/config/application.py\", line 658, in launch_instance\n    app.start()\n  File \"/home/mark/.conda/envs/dl/lib/python3.6/site-packages/ipykernel/kernelapp.py\", line 477, in start\n    ioloop.IOLoop.instance().start()\n  File \"/home/mark/.conda/envs/dl/lib/python3.6/site-packages/zmq/eventloop/ioloop.py\", line 177, in start\n    super(ZMQIOLoop, self).start()\n  File \"/home/mark/.conda/envs/dl/lib/python3.6/site-packages/tornado/ioloop.py\", line 888, in start\n    handler_func(fd_obj, events)\n  File \"/home/mark/.conda/envs/dl/lib/python3.6/site-packages/tornado/stack_context.py\", line 277, in null_wrapper\n    return fn(*args, **kwargs)\n  File \"/home/mark/.conda/envs/dl/lib/python3.6/site-packages/zmq/eventloop/zmqstream.py\", line 440, in _handle_events\n    self._handle_recv()\n  File \"/home/mark/.conda/envs/dl/lib/python3.6/site-packages/zmq/eventloop/zmqstream.py\", line 472, in _handle_recv\n    self._run_callback(callback, msg)\n  File \"/home/mark/.conda/envs/dl/lib/python3.6/site-packages/zmq/eventloop/zmqstream.py\", line 414, in _run_callback\n    callback(*args, **kwargs)\n  File \"/home/mark/.conda/envs/dl/lib/python3.6/site-packages/tornado/stack_context.py\", line 277, in null_wrapper\n    return fn(*args, **kwargs)\n  File \"/home/mark/.conda/envs/dl/lib/python3.6/site-packages/ipykernel/kernelbase.py\", line 283, in dispatcher\n    return self.dispatch_shell(stream, msg)\n  File \"/home/mark/.conda/envs/dl/lib/python3.6/site-packages/ipykernel/kernelbase.py\", line 235, in dispatch_shell\n    handler(stream, idents, msg)\n  File \"/home/mark/.conda/envs/dl/lib/python3.6/site-packages/ipykernel/kernelbase.py\", line 399, in execute_request\n    user_expressions, allow_stdin)\n  File \"/home/mark/.conda/envs/dl/lib/python3.6/site-packages/ipykernel/ipkernel.py\", line 196, in do_execute\n    res = shell.run_cell(code, store_history=store_history, silent=silent)\n  File \"/home/mark/.conda/envs/dl/lib/python3.6/site-packages/ipykernel/zmqshell.py\", line 533, in run_cell\n    return super(ZMQInteractiveShell, self).run_cell(*args, **kwargs)\n  File \"/home/mark/.conda/envs/dl/lib/python3.6/site-packages/IPython/core/interactiveshell.py\", line 2718, in run_cell\n    interactivity=interactivity, compiler=compiler, result=result)\n  File \"/home/mark/.conda/envs/dl/lib/python3.6/site-packages/IPython/core/interactiveshell.py\", line 2828, in run_ast_nodes\n    if self.run_code(code, result):\n  File \"/home/mark/.conda/envs/dl/lib/python3.6/site-packages/IPython/core/interactiveshell.py\", line 2882, in run_code\n    exec(code_obj, self.user_global_ns, self.user_ns)\n  File \"<ipython-input-22-28d0d5969d11>\", line 43, in <module>\n    final_predictions(preproc_english_sentences, preproc_french_sentences, english_tokenizer, french_tokenizer)\n  File \"<ipython-input-22-28d0d5969d11>\", line 20, in final_predictions\n    len(y_tk.word_index))\n  File \"<ipython-input-21-bbc6bcfa7089>\", line 18, in model_final\n    x = Bidirectional(GRU(128, return_sequences=True, name='bid_1'))(x)\n  File \"/home/mark/.conda/envs/dl/lib/python3.6/site-packages/keras/engine/topology.py\", line 602, in __call__\n    output = self.call(inputs, **kwargs)\n  File \"/home/mark/.conda/envs/dl/lib/python3.6/site-packages/keras/layers/wrappers.py\", line 294, in call\n    y = self.forward_layer.call(inputs, **kwargs)\n  File \"/home/mark/.conda/envs/dl/lib/python3.6/site-packages/keras/layers/recurrent.py\", line 340, in call\n    preprocessed_input = self.preprocess_input(inputs, training=None)\n  File \"/home/mark/.conda/envs/dl/lib/python3.6/site-packages/keras/layers/recurrent.py\", line 792, in preprocess_input\n    timesteps, training=training)\n  File \"/home/mark/.conda/envs/dl/lib/python3.6/site-packages/keras/layers/recurrent.py\", line 55, in _time_distributed_dense\n    x = K.reshape(x, K.stack([-1, timesteps, output_dim]))\n  File \"/home/mark/.conda/envs/dl/lib/python3.6/site-packages/keras/backend/tensorflow_backend.py\", line 1722, in reshape\n    return tf.reshape(x, shape)\n  File \"/home/mark/.conda/envs/dl/lib/python3.6/site-packages/tensorflow/python/ops/gen_array_ops.py\", line 2451, in reshape\n    name=name)\n  File \"/home/mark/.conda/envs/dl/lib/python3.6/site-packages/tensorflow/python/framework/op_def_library.py\", line 767, in apply_op\n    op_def=op_def)\n  File \"/home/mark/.conda/envs/dl/lib/python3.6/site-packages/tensorflow/python/framework/ops.py\", line 2506, in create_op\n    original_op=self._default_original_op, op_def=op_def)\n  File \"/home/mark/.conda/envs/dl/lib/python3.6/site-packages/tensorflow/python/framework/ops.py\", line 1269, in __init__\n    self._traceback = _extract_stack()\n\nInvalidArgumentError (see above for traceback): Input to reshape is a tensor with 1966080 values, but the requested shape requires a multiple of 2688\n\t [[Node: bidirectional_12/Reshape_1 = Reshape[T=DT_FLOAT, Tshape=DT_INT32, _device=\"/job:localhost/replica:0/task:0/gpu:0\"](bidirectional_12/BiasAdd, bidirectional_12/stack)]]\n\t [[Node: loss_9/mul/_271 = _Recv[client_terminated=false, recv_device=\"/job:localhost/replica:0/task:0/cpu:0\", send_device=\"/job:localhost/replica:0/task:0/gpu:0\", send_device_incarnation=1, tensor_name=\"edge_8510_loss_9/mul\", tensor_type=DT_FLOAT, _device=\"/job:localhost/replica:0/task:0/cpu:0\"]()]]\n",
     "output_type": "error",
     "traceback": [
      "\u001b[0;31m---------------------------------------------------------------------------\u001b[0m",
      "\u001b[0;31mInvalidArgumentError\u001b[0m                      Traceback (most recent call last)",
      "\u001b[0;32m/home/mark/.conda/envs/dl/lib/python3.6/site-packages/tensorflow/python/client/session.py\u001b[0m in \u001b[0;36m_do_call\u001b[0;34m(self, fn, *args)\u001b[0m\n\u001b[1;32m   1138\u001b[0m     \u001b[0;32mtry\u001b[0m\u001b[0;34m:\u001b[0m\u001b[0;34m\u001b[0m\u001b[0m\n\u001b[0;32m-> 1139\u001b[0;31m       \u001b[0;32mreturn\u001b[0m \u001b[0mfn\u001b[0m\u001b[0;34m(\u001b[0m\u001b[0;34m*\u001b[0m\u001b[0margs\u001b[0m\u001b[0;34m)\u001b[0m\u001b[0;34m\u001b[0m\u001b[0m\n\u001b[0m\u001b[1;32m   1140\u001b[0m     \u001b[0;32mexcept\u001b[0m \u001b[0merrors\u001b[0m\u001b[0;34m.\u001b[0m\u001b[0mOpError\u001b[0m \u001b[0;32mas\u001b[0m \u001b[0me\u001b[0m\u001b[0;34m:\u001b[0m\u001b[0;34m\u001b[0m\u001b[0m\n",
      "\u001b[0;32m/home/mark/.conda/envs/dl/lib/python3.6/site-packages/tensorflow/python/client/session.py\u001b[0m in \u001b[0;36m_run_fn\u001b[0;34m(session, feed_dict, fetch_list, target_list, options, run_metadata)\u001b[0m\n\u001b[1;32m   1120\u001b[0m                                  \u001b[0mfeed_dict\u001b[0m\u001b[0;34m,\u001b[0m \u001b[0mfetch_list\u001b[0m\u001b[0;34m,\u001b[0m \u001b[0mtarget_list\u001b[0m\u001b[0;34m,\u001b[0m\u001b[0;34m\u001b[0m\u001b[0m\n\u001b[0;32m-> 1121\u001b[0;31m                                  status, run_metadata)\n\u001b[0m\u001b[1;32m   1122\u001b[0m \u001b[0;34m\u001b[0m\u001b[0m\n",
      "\u001b[0;32m/home/mark/.conda/envs/dl/lib/python3.6/contextlib.py\u001b[0m in \u001b[0;36m__exit__\u001b[0;34m(self, type, value, traceback)\u001b[0m\n\u001b[1;32m     88\u001b[0m             \u001b[0;32mtry\u001b[0m\u001b[0;34m:\u001b[0m\u001b[0;34m\u001b[0m\u001b[0m\n\u001b[0;32m---> 89\u001b[0;31m                 \u001b[0mnext\u001b[0m\u001b[0;34m(\u001b[0m\u001b[0mself\u001b[0m\u001b[0;34m.\u001b[0m\u001b[0mgen\u001b[0m\u001b[0;34m)\u001b[0m\u001b[0;34m\u001b[0m\u001b[0m\n\u001b[0m\u001b[1;32m     90\u001b[0m             \u001b[0;32mexcept\u001b[0m \u001b[0mStopIteration\u001b[0m\u001b[0;34m:\u001b[0m\u001b[0;34m\u001b[0m\u001b[0m\n",
      "\u001b[0;32m/home/mark/.conda/envs/dl/lib/python3.6/site-packages/tensorflow/python/framework/errors_impl.py\u001b[0m in \u001b[0;36mraise_exception_on_not_ok_status\u001b[0;34m()\u001b[0m\n\u001b[1;32m    465\u001b[0m           \u001b[0mcompat\u001b[0m\u001b[0;34m.\u001b[0m\u001b[0mas_text\u001b[0m\u001b[0;34m(\u001b[0m\u001b[0mpywrap_tensorflow\u001b[0m\u001b[0;34m.\u001b[0m\u001b[0mTF_Message\u001b[0m\u001b[0;34m(\u001b[0m\u001b[0mstatus\u001b[0m\u001b[0;34m)\u001b[0m\u001b[0;34m)\u001b[0m\u001b[0;34m,\u001b[0m\u001b[0;34m\u001b[0m\u001b[0m\n\u001b[0;32m--> 466\u001b[0;31m           pywrap_tensorflow.TF_GetCode(status))\n\u001b[0m\u001b[1;32m    467\u001b[0m   \u001b[0;32mfinally\u001b[0m\u001b[0;34m:\u001b[0m\u001b[0;34m\u001b[0m\u001b[0m\n",
      "\u001b[0;31mInvalidArgumentError\u001b[0m: Input to reshape is a tensor with 1966080 values, but the requested shape requires a multiple of 2688\n\t [[Node: bidirectional_12/Reshape_1 = Reshape[T=DT_FLOAT, Tshape=DT_INT32, _device=\"/job:localhost/replica:0/task:0/gpu:0\"](bidirectional_12/BiasAdd, bidirectional_12/stack)]]\n\t [[Node: loss_9/mul/_271 = _Recv[client_terminated=false, recv_device=\"/job:localhost/replica:0/task:0/cpu:0\", send_device=\"/job:localhost/replica:0/task:0/gpu:0\", send_device_incarnation=1, tensor_name=\"edge_8510_loss_9/mul\", tensor_type=DT_FLOAT, _device=\"/job:localhost/replica:0/task:0/cpu:0\"]()]]",
      "\nDuring handling of the above exception, another exception occurred:\n",
      "\u001b[0;31mInvalidArgumentError\u001b[0m                      Traceback (most recent call last)",
      "\u001b[0;32m<ipython-input-22-28d0d5969d11>\u001b[0m in \u001b[0;36m<module>\u001b[0;34m()\u001b[0m\n\u001b[1;32m     41\u001b[0m \u001b[0;34m\u001b[0m\u001b[0m\n\u001b[1;32m     42\u001b[0m \u001b[0;34m\u001b[0m\u001b[0m\n\u001b[0;32m---> 43\u001b[0;31m \u001b[0mfinal_predictions\u001b[0m\u001b[0;34m(\u001b[0m\u001b[0mpreproc_english_sentences\u001b[0m\u001b[0;34m,\u001b[0m \u001b[0mpreproc_french_sentences\u001b[0m\u001b[0;34m,\u001b[0m \u001b[0menglish_tokenizer\u001b[0m\u001b[0;34m,\u001b[0m \u001b[0mfrench_tokenizer\u001b[0m\u001b[0;34m)\u001b[0m\u001b[0;34m\u001b[0m\u001b[0m\n\u001b[0m",
      "\u001b[0;32m<ipython-input-22-28d0d5969d11>\u001b[0m in \u001b[0;36mfinal_predictions\u001b[0;34m(x, y, x_tk, y_tk)\u001b[0m\n\u001b[1;32m     20\u001b[0m                           len(y_tk.word_index))\n\u001b[1;32m     21\u001b[0m \u001b[0;34m\u001b[0m\u001b[0m\n\u001b[0;32m---> 22\u001b[0;31m     \u001b[0mmodel\u001b[0m\u001b[0;34m.\u001b[0m\u001b[0mfit\u001b[0m\u001b[0;34m(\u001b[0m\u001b[0mx\u001b[0m\u001b[0;34m,\u001b[0m \u001b[0my\u001b[0m\u001b[0;34m,\u001b[0m \u001b[0mbatch_size\u001b[0m\u001b[0;34m=\u001b[0m\u001b[0;36m1024\u001b[0m\u001b[0;34m,\u001b[0m \u001b[0mepochs\u001b[0m\u001b[0;34m=\u001b[0m\u001b[0;36m40\u001b[0m\u001b[0;34m,\u001b[0m \u001b[0mvalidation_split\u001b[0m\u001b[0;34m=\u001b[0m\u001b[0;36m0.2\u001b[0m\u001b[0;34m)\u001b[0m\u001b[0;34m\u001b[0m\u001b[0m\n\u001b[0m\u001b[1;32m     23\u001b[0m \u001b[0;34m\u001b[0m\u001b[0m\n\u001b[1;32m     24\u001b[0m \u001b[0;34m\u001b[0m\u001b[0m\n",
      "\u001b[0;32m/home/mark/.conda/envs/dl/lib/python3.6/site-packages/keras/engine/training.py\u001b[0m in \u001b[0;36mfit\u001b[0;34m(self, x, y, batch_size, epochs, verbose, callbacks, validation_split, validation_data, shuffle, class_weight, sample_weight, initial_epoch, steps_per_epoch, validation_steps, **kwargs)\u001b[0m\n\u001b[1;32m   1596\u001b[0m                               \u001b[0minitial_epoch\u001b[0m\u001b[0;34m=\u001b[0m\u001b[0minitial_epoch\u001b[0m\u001b[0;34m,\u001b[0m\u001b[0;34m\u001b[0m\u001b[0m\n\u001b[1;32m   1597\u001b[0m                               \u001b[0msteps_per_epoch\u001b[0m\u001b[0;34m=\u001b[0m\u001b[0msteps_per_epoch\u001b[0m\u001b[0;34m,\u001b[0m\u001b[0;34m\u001b[0m\u001b[0m\n\u001b[0;32m-> 1598\u001b[0;31m                               validation_steps=validation_steps)\n\u001b[0m\u001b[1;32m   1599\u001b[0m \u001b[0;34m\u001b[0m\u001b[0m\n\u001b[1;32m   1600\u001b[0m     def evaluate(self, x, y,\n",
      "\u001b[0;32m/home/mark/.conda/envs/dl/lib/python3.6/site-packages/keras/engine/training.py\u001b[0m in \u001b[0;36m_fit_loop\u001b[0;34m(self, f, ins, out_labels, batch_size, epochs, verbose, callbacks, val_f, val_ins, shuffle, callback_metrics, initial_epoch, steps_per_epoch, validation_steps)\u001b[0m\n\u001b[1;32m   1181\u001b[0m                     \u001b[0mbatch_logs\u001b[0m\u001b[0;34m[\u001b[0m\u001b[0;34m'size'\u001b[0m\u001b[0;34m]\u001b[0m \u001b[0;34m=\u001b[0m \u001b[0mlen\u001b[0m\u001b[0;34m(\u001b[0m\u001b[0mbatch_ids\u001b[0m\u001b[0;34m)\u001b[0m\u001b[0;34m\u001b[0m\u001b[0m\n\u001b[1;32m   1182\u001b[0m                     \u001b[0mcallbacks\u001b[0m\u001b[0;34m.\u001b[0m\u001b[0mon_batch_begin\u001b[0m\u001b[0;34m(\u001b[0m\u001b[0mbatch_index\u001b[0m\u001b[0;34m,\u001b[0m \u001b[0mbatch_logs\u001b[0m\u001b[0;34m)\u001b[0m\u001b[0;34m\u001b[0m\u001b[0m\n\u001b[0;32m-> 1183\u001b[0;31m                     \u001b[0mouts\u001b[0m \u001b[0;34m=\u001b[0m \u001b[0mf\u001b[0m\u001b[0;34m(\u001b[0m\u001b[0mins_batch\u001b[0m\u001b[0;34m)\u001b[0m\u001b[0;34m\u001b[0m\u001b[0m\n\u001b[0m\u001b[1;32m   1184\u001b[0m                     \u001b[0;32mif\u001b[0m \u001b[0;32mnot\u001b[0m \u001b[0misinstance\u001b[0m\u001b[0;34m(\u001b[0m\u001b[0mouts\u001b[0m\u001b[0;34m,\u001b[0m \u001b[0mlist\u001b[0m\u001b[0;34m)\u001b[0m\u001b[0;34m:\u001b[0m\u001b[0;34m\u001b[0m\u001b[0m\n\u001b[1;32m   1185\u001b[0m                         \u001b[0mouts\u001b[0m \u001b[0;34m=\u001b[0m \u001b[0;34m[\u001b[0m\u001b[0mouts\u001b[0m\u001b[0;34m]\u001b[0m\u001b[0;34m\u001b[0m\u001b[0m\n",
      "\u001b[0;32m/home/mark/.conda/envs/dl/lib/python3.6/site-packages/keras/backend/tensorflow_backend.py\u001b[0m in \u001b[0;36m__call__\u001b[0;34m(self, inputs)\u001b[0m\n\u001b[1;32m   2271\u001b[0m         updated = session.run(self.outputs + [self.updates_op],\n\u001b[1;32m   2272\u001b[0m                               \u001b[0mfeed_dict\u001b[0m\u001b[0;34m=\u001b[0m\u001b[0mfeed_dict\u001b[0m\u001b[0;34m,\u001b[0m\u001b[0;34m\u001b[0m\u001b[0m\n\u001b[0;32m-> 2273\u001b[0;31m                               **self.session_kwargs)\n\u001b[0m\u001b[1;32m   2274\u001b[0m         \u001b[0;32mreturn\u001b[0m \u001b[0mupdated\u001b[0m\u001b[0;34m[\u001b[0m\u001b[0;34m:\u001b[0m\u001b[0mlen\u001b[0m\u001b[0;34m(\u001b[0m\u001b[0mself\u001b[0m\u001b[0;34m.\u001b[0m\u001b[0moutputs\u001b[0m\u001b[0;34m)\u001b[0m\u001b[0;34m]\u001b[0m\u001b[0;34m\u001b[0m\u001b[0m\n\u001b[1;32m   2275\u001b[0m \u001b[0;34m\u001b[0m\u001b[0m\n",
      "\u001b[0;32m/home/mark/.conda/envs/dl/lib/python3.6/site-packages/tensorflow/python/client/session.py\u001b[0m in \u001b[0;36mrun\u001b[0;34m(self, fetches, feed_dict, options, run_metadata)\u001b[0m\n\u001b[1;32m    787\u001b[0m     \u001b[0;32mtry\u001b[0m\u001b[0;34m:\u001b[0m\u001b[0;34m\u001b[0m\u001b[0m\n\u001b[1;32m    788\u001b[0m       result = self._run(None, fetches, feed_dict, options_ptr,\n\u001b[0;32m--> 789\u001b[0;31m                          run_metadata_ptr)\n\u001b[0m\u001b[1;32m    790\u001b[0m       \u001b[0;32mif\u001b[0m \u001b[0mrun_metadata\u001b[0m\u001b[0;34m:\u001b[0m\u001b[0;34m\u001b[0m\u001b[0m\n\u001b[1;32m    791\u001b[0m         \u001b[0mproto_data\u001b[0m \u001b[0;34m=\u001b[0m \u001b[0mtf_session\u001b[0m\u001b[0;34m.\u001b[0m\u001b[0mTF_GetBuffer\u001b[0m\u001b[0;34m(\u001b[0m\u001b[0mrun_metadata_ptr\u001b[0m\u001b[0;34m)\u001b[0m\u001b[0;34m\u001b[0m\u001b[0m\n",
      "\u001b[0;32m/home/mark/.conda/envs/dl/lib/python3.6/site-packages/tensorflow/python/client/session.py\u001b[0m in \u001b[0;36m_run\u001b[0;34m(self, handle, fetches, feed_dict, options, run_metadata)\u001b[0m\n\u001b[1;32m    995\u001b[0m     \u001b[0;32mif\u001b[0m \u001b[0mfinal_fetches\u001b[0m \u001b[0;32mor\u001b[0m \u001b[0mfinal_targets\u001b[0m\u001b[0;34m:\u001b[0m\u001b[0;34m\u001b[0m\u001b[0m\n\u001b[1;32m    996\u001b[0m       results = self._do_run(handle, final_targets, final_fetches,\n\u001b[0;32m--> 997\u001b[0;31m                              feed_dict_string, options, run_metadata)\n\u001b[0m\u001b[1;32m    998\u001b[0m     \u001b[0;32melse\u001b[0m\u001b[0;34m:\u001b[0m\u001b[0;34m\u001b[0m\u001b[0m\n\u001b[1;32m    999\u001b[0m       \u001b[0mresults\u001b[0m \u001b[0;34m=\u001b[0m \u001b[0;34m[\u001b[0m\u001b[0;34m]\u001b[0m\u001b[0;34m\u001b[0m\u001b[0m\n",
      "\u001b[0;32m/home/mark/.conda/envs/dl/lib/python3.6/site-packages/tensorflow/python/client/session.py\u001b[0m in \u001b[0;36m_do_run\u001b[0;34m(self, handle, target_list, fetch_list, feed_dict, options, run_metadata)\u001b[0m\n\u001b[1;32m   1130\u001b[0m     \u001b[0;32mif\u001b[0m \u001b[0mhandle\u001b[0m \u001b[0;32mis\u001b[0m \u001b[0;32mNone\u001b[0m\u001b[0;34m:\u001b[0m\u001b[0;34m\u001b[0m\u001b[0m\n\u001b[1;32m   1131\u001b[0m       return self._do_call(_run_fn, self._session, feed_dict, fetch_list,\n\u001b[0;32m-> 1132\u001b[0;31m                            target_list, options, run_metadata)\n\u001b[0m\u001b[1;32m   1133\u001b[0m     \u001b[0;32melse\u001b[0m\u001b[0;34m:\u001b[0m\u001b[0;34m\u001b[0m\u001b[0m\n\u001b[1;32m   1134\u001b[0m       return self._do_call(_prun_fn, self._session, handle, feed_dict,\n",
      "\u001b[0;32m/home/mark/.conda/envs/dl/lib/python3.6/site-packages/tensorflow/python/client/session.py\u001b[0m in \u001b[0;36m_do_call\u001b[0;34m(self, fn, *args)\u001b[0m\n\u001b[1;32m   1150\u001b[0m         \u001b[0;32mexcept\u001b[0m \u001b[0mKeyError\u001b[0m\u001b[0;34m:\u001b[0m\u001b[0;34m\u001b[0m\u001b[0m\n\u001b[1;32m   1151\u001b[0m           \u001b[0;32mpass\u001b[0m\u001b[0;34m\u001b[0m\u001b[0m\n\u001b[0;32m-> 1152\u001b[0;31m       \u001b[0;32mraise\u001b[0m \u001b[0mtype\u001b[0m\u001b[0;34m(\u001b[0m\u001b[0me\u001b[0m\u001b[0;34m)\u001b[0m\u001b[0;34m(\u001b[0m\u001b[0mnode_def\u001b[0m\u001b[0;34m,\u001b[0m \u001b[0mop\u001b[0m\u001b[0;34m,\u001b[0m \u001b[0mmessage\u001b[0m\u001b[0;34m)\u001b[0m\u001b[0;34m\u001b[0m\u001b[0m\n\u001b[0m\u001b[1;32m   1153\u001b[0m \u001b[0;34m\u001b[0m\u001b[0m\n\u001b[1;32m   1154\u001b[0m   \u001b[0;32mdef\u001b[0m \u001b[0m_extend_graph\u001b[0m\u001b[0;34m(\u001b[0m\u001b[0mself\u001b[0m\u001b[0;34m)\u001b[0m\u001b[0;34m:\u001b[0m\u001b[0;34m\u001b[0m\u001b[0m\n",
      "\u001b[0;31mInvalidArgumentError\u001b[0m: Input to reshape is a tensor with 1966080 values, but the requested shape requires a multiple of 2688\n\t [[Node: bidirectional_12/Reshape_1 = Reshape[T=DT_FLOAT, Tshape=DT_INT32, _device=\"/job:localhost/replica:0/task:0/gpu:0\"](bidirectional_12/BiasAdd, bidirectional_12/stack)]]\n\t [[Node: loss_9/mul/_271 = _Recv[client_terminated=false, recv_device=\"/job:localhost/replica:0/task:0/cpu:0\", send_device=\"/job:localhost/replica:0/task:0/gpu:0\", send_device_incarnation=1, tensor_name=\"edge_8510_loss_9/mul\", tensor_type=DT_FLOAT, _device=\"/job:localhost/replica:0/task:0/cpu:0\"]()]]\n\nCaused by op 'bidirectional_12/Reshape_1', defined at:\n  File \"/home/mark/.conda/envs/dl/lib/python3.6/runpy.py\", line 193, in _run_module_as_main\n    \"__main__\", mod_spec)\n  File \"/home/mark/.conda/envs/dl/lib/python3.6/runpy.py\", line 85, in _run_code\n    exec(code, run_globals)\n  File \"/home/mark/.conda/envs/dl/lib/python3.6/site-packages/ipykernel_launcher.py\", line 16, in <module>\n    app.launch_new_instance()\n  File \"/home/mark/.conda/envs/dl/lib/python3.6/site-packages/traitlets/config/application.py\", line 658, in launch_instance\n    app.start()\n  File \"/home/mark/.conda/envs/dl/lib/python3.6/site-packages/ipykernel/kernelapp.py\", line 477, in start\n    ioloop.IOLoop.instance().start()\n  File \"/home/mark/.conda/envs/dl/lib/python3.6/site-packages/zmq/eventloop/ioloop.py\", line 177, in start\n    super(ZMQIOLoop, self).start()\n  File \"/home/mark/.conda/envs/dl/lib/python3.6/site-packages/tornado/ioloop.py\", line 888, in start\n    handler_func(fd_obj, events)\n  File \"/home/mark/.conda/envs/dl/lib/python3.6/site-packages/tornado/stack_context.py\", line 277, in null_wrapper\n    return fn(*args, **kwargs)\n  File \"/home/mark/.conda/envs/dl/lib/python3.6/site-packages/zmq/eventloop/zmqstream.py\", line 440, in _handle_events\n    self._handle_recv()\n  File \"/home/mark/.conda/envs/dl/lib/python3.6/site-packages/zmq/eventloop/zmqstream.py\", line 472, in _handle_recv\n    self._run_callback(callback, msg)\n  File \"/home/mark/.conda/envs/dl/lib/python3.6/site-packages/zmq/eventloop/zmqstream.py\", line 414, in _run_callback\n    callback(*args, **kwargs)\n  File \"/home/mark/.conda/envs/dl/lib/python3.6/site-packages/tornado/stack_context.py\", line 277, in null_wrapper\n    return fn(*args, **kwargs)\n  File \"/home/mark/.conda/envs/dl/lib/python3.6/site-packages/ipykernel/kernelbase.py\", line 283, in dispatcher\n    return self.dispatch_shell(stream, msg)\n  File \"/home/mark/.conda/envs/dl/lib/python3.6/site-packages/ipykernel/kernelbase.py\", line 235, in dispatch_shell\n    handler(stream, idents, msg)\n  File \"/home/mark/.conda/envs/dl/lib/python3.6/site-packages/ipykernel/kernelbase.py\", line 399, in execute_request\n    user_expressions, allow_stdin)\n  File \"/home/mark/.conda/envs/dl/lib/python3.6/site-packages/ipykernel/ipkernel.py\", line 196, in do_execute\n    res = shell.run_cell(code, store_history=store_history, silent=silent)\n  File \"/home/mark/.conda/envs/dl/lib/python3.6/site-packages/ipykernel/zmqshell.py\", line 533, in run_cell\n    return super(ZMQInteractiveShell, self).run_cell(*args, **kwargs)\n  File \"/home/mark/.conda/envs/dl/lib/python3.6/site-packages/IPython/core/interactiveshell.py\", line 2718, in run_cell\n    interactivity=interactivity, compiler=compiler, result=result)\n  File \"/home/mark/.conda/envs/dl/lib/python3.6/site-packages/IPython/core/interactiveshell.py\", line 2828, in run_ast_nodes\n    if self.run_code(code, result):\n  File \"/home/mark/.conda/envs/dl/lib/python3.6/site-packages/IPython/core/interactiveshell.py\", line 2882, in run_code\n    exec(code_obj, self.user_global_ns, self.user_ns)\n  File \"<ipython-input-22-28d0d5969d11>\", line 43, in <module>\n    final_predictions(preproc_english_sentences, preproc_french_sentences, english_tokenizer, french_tokenizer)\n  File \"<ipython-input-22-28d0d5969d11>\", line 20, in final_predictions\n    len(y_tk.word_index))\n  File \"<ipython-input-21-bbc6bcfa7089>\", line 18, in model_final\n    x = Bidirectional(GRU(128, return_sequences=True, name='bid_1'))(x)\n  File \"/home/mark/.conda/envs/dl/lib/python3.6/site-packages/keras/engine/topology.py\", line 602, in __call__\n    output = self.call(inputs, **kwargs)\n  File \"/home/mark/.conda/envs/dl/lib/python3.6/site-packages/keras/layers/wrappers.py\", line 294, in call\n    y = self.forward_layer.call(inputs, **kwargs)\n  File \"/home/mark/.conda/envs/dl/lib/python3.6/site-packages/keras/layers/recurrent.py\", line 340, in call\n    preprocessed_input = self.preprocess_input(inputs, training=None)\n  File \"/home/mark/.conda/envs/dl/lib/python3.6/site-packages/keras/layers/recurrent.py\", line 792, in preprocess_input\n    timesteps, training=training)\n  File \"/home/mark/.conda/envs/dl/lib/python3.6/site-packages/keras/layers/recurrent.py\", line 55, in _time_distributed_dense\n    x = K.reshape(x, K.stack([-1, timesteps, output_dim]))\n  File \"/home/mark/.conda/envs/dl/lib/python3.6/site-packages/keras/backend/tensorflow_backend.py\", line 1722, in reshape\n    return tf.reshape(x, shape)\n  File \"/home/mark/.conda/envs/dl/lib/python3.6/site-packages/tensorflow/python/ops/gen_array_ops.py\", line 2451, in reshape\n    name=name)\n  File \"/home/mark/.conda/envs/dl/lib/python3.6/site-packages/tensorflow/python/framework/op_def_library.py\", line 767, in apply_op\n    op_def=op_def)\n  File \"/home/mark/.conda/envs/dl/lib/python3.6/site-packages/tensorflow/python/framework/ops.py\", line 2506, in create_op\n    original_op=self._default_original_op, op_def=op_def)\n  File \"/home/mark/.conda/envs/dl/lib/python3.6/site-packages/tensorflow/python/framework/ops.py\", line 1269, in __init__\n    self._traceback = _extract_stack()\n\nInvalidArgumentError (see above for traceback): Input to reshape is a tensor with 1966080 values, but the requested shape requires a multiple of 2688\n\t [[Node: bidirectional_12/Reshape_1 = Reshape[T=DT_FLOAT, Tshape=DT_INT32, _device=\"/job:localhost/replica:0/task:0/gpu:0\"](bidirectional_12/BiasAdd, bidirectional_12/stack)]]\n\t [[Node: loss_9/mul/_271 = _Recv[client_terminated=false, recv_device=\"/job:localhost/replica:0/task:0/cpu:0\", send_device=\"/job:localhost/replica:0/task:0/gpu:0\", send_device_incarnation=1, tensor_name=\"edge_8510_loss_9/mul\", tensor_type=DT_FLOAT, _device=\"/job:localhost/replica:0/task:0/cpu:0\"]()]]\n"
     ]
    }
   ],
   "source": [
    "import numpy as np\n",
    "from keras.preprocessing.sequence import pad_sequences\n",
    "\n",
    "\n",
    "def final_predictions(x, y, x_tk, y_tk):\n",
    "    \"\"\"\n",
    "    Gets predictions using the final model\n",
    "    :param x: Preprocessed English data\n",
    "    :param y: Preprocessed French data\n",
    "    :param x_tk: English tokenizer\n",
    "    :param y_tk: French tokenizer\n",
    "    \"\"\"\n",
    "    # Train neural network using model_final\n",
    "#     tmp_x = pad(x, y.shape[1])\n",
    "#     tmp_x = tmp_x.reshape((-1, y.shape[-2]))\n",
    "\n",
    "    model = model_final(x.shape,\n",
    "                          y.shape[1],\n",
    "                          len(x_tk.word_index),\n",
    "                          len(y_tk.word_index))\n",
    "    \n",
    "    model.fit(x, y, batch_size=1024, epochs=40, validation_split=0.2)\n",
    "\n",
    "    \n",
    "    ## DON'T EDIT ANYTHING BELOW THIS LINE\n",
    "    y_id_to_word = {value: key for key, value in y_tk.word_index.items()}\n",
    "    y_id_to_word[0] = '<PAD>'\n",
    "\n",
    "    sentence = 'he saw a old yellow truck'\n",
    "    sentence = [x_tk.word_index[word] for word in sentence.split()]\n",
    "    sentence = pad_sequences([sentence], maxlen=x.shape[-1], padding='post')\n",
    "    sentences = np.array([sentence[0], x[0]])\n",
    "    predictions = model.predict(sentences, len(sentences))\n",
    "\n",
    "    print('Sample 1:')\n",
    "    print(' '.join([y_id_to_word[np.argmax(x)] for x in predictions[0]]))\n",
    "    print('Il a vu un vieux camion jaune')\n",
    "    print('Sample 2:')\n",
    "    print(' '.join([y_id_to_word[np.argmax(x)] for x in predictions[1]]))\n",
    "    print(' '.join([y_id_to_word[np.argmax(x)] for x in y[0]]))\n",
    "\n",
    "\n",
    "final_predictions(preproc_english_sentences, preproc_french_sentences, english_tokenizer, french_tokenizer)"
   ]
  },
  {
   "cell_type": "code",
   "execution_count": 24,
   "metadata": {},
   "outputs": [],
   "source": [
    "import numpy as np\n",
    "from keras.preprocessing.sequence import pad_sequences\n",
    "\n",
    "\n",
    "def fit_model(x, y, x_tk, y_tk):\n",
    "    \"\"\"\n",
    "    Gets predictions using the final model\n",
    "    :param x: Preprocessed English data\n",
    "    :param y: Preprocessed French data\n",
    "    :param x_tk: English tokenizer\n",
    "    :param y_tk: French tokenizer\n",
    "    \"\"\"\n",
    "    # Train neural network using model_final\n",
    "    tmp_x = pad(x, y.shape[1])\n",
    "    tmp_x = tmp_x.reshape((-1, y.shape[-2]))\n",
    "\n",
    "    model = model_final(tmp_x.shape,\n",
    "                          y.shape[1],\n",
    "                          len(x_tk.word_index),\n",
    "                          len(y_tk.word_index))\n",
    "    \n",
    "    model.fit(tmp_x, y, batch_size=1024, epochs=40, validation_split=0.2)\n",
    "    return model"
   ]
  },
  {
   "cell_type": "code",
   "execution_count": 26,
   "metadata": {},
   "outputs": [
    {
     "name": "stdout",
     "output_type": "stream",
     "text": [
      "Train on 110288 samples, validate on 27573 samples\n",
      "Epoch 1/40\n",
      "110288/110288 [==============================] - 13s - loss: 2.7841 - acc: 0.4712 - val_loss: nan - val_acc: 0.5560\n",
      "Epoch 2/40\n",
      "110288/110288 [==============================] - 12s - loss: 1.5516 - acc: 0.6197 - val_loss: nan - val_acc: 0.6854\n",
      "Epoch 3/40\n",
      "110288/110288 [==============================] - 12s - loss: 1.0929 - acc: 0.7206 - val_loss: nan - val_acc: 0.7544\n",
      "Epoch 4/40\n",
      "110288/110288 [==============================] - 12s - loss: 0.8523 - acc: 0.7805 - val_loss: nan - val_acc: 0.8071\n",
      "Epoch 5/40\n",
      "110288/110288 [==============================] - 12s - loss: 0.6529 - acc: 0.8313 - val_loss: nan - val_acc: 0.8550\n",
      "Epoch 6/40\n",
      "110288/110288 [==============================] - 12s - loss: 0.4944 - acc: 0.8720 - val_loss: nan - val_acc: 0.8844\n",
      "Epoch 7/40\n",
      "110288/110288 [==============================] - 12s - loss: 0.3832 - acc: 0.8988 - val_loss: nan - val_acc: 0.9050\n",
      "Epoch 8/40\n",
      "110288/110288 [==============================] - 12s - loss: 0.3070 - acc: 0.9182 - val_loss: nan - val_acc: 0.9279\n",
      "Epoch 9/40\n",
      "110288/110288 [==============================] - 12s - loss: 0.2504 - acc: 0.9325 - val_loss: nan - val_acc: 0.9382\n",
      "Epoch 10/40\n",
      "110288/110288 [==============================] - 12s - loss: 0.2116 - acc: 0.9422 - val_loss: nan - val_acc: 0.9483\n",
      "Epoch 11/40\n",
      "110288/110288 [==============================] - 12s - loss: 0.1774 - acc: 0.9518 - val_loss: nan - val_acc: 0.9539\n",
      "Epoch 12/40\n",
      "110288/110288 [==============================] - 12s - loss: 0.1585 - acc: 0.9565 - val_loss: nan - val_acc: 0.9562\n",
      "Epoch 13/40\n",
      "110288/110288 [==============================] - 12s - loss: 0.1405 - acc: 0.9614 - val_loss: nan - val_acc: 0.9606: 0.96 - ETA: 0s - loss: 0.1412 - ac\n",
      "Epoch 14/40\n",
      "110288/110288 [==============================] - 12s - loss: 0.1240 - acc: 0.9661 - val_loss: nan - val_acc: 0.9660\n",
      "Epoch 15/40\n",
      "110288/110288 [==============================] - 12s - loss: 0.1118 - acc: 0.9694 - val_loss: nan - val_acc: 0.9680\n",
      "Epoch 16/40\n",
      "110288/110288 [==============================] - 12s - loss: 0.1038 - acc: 0.9714 - val_loss: nan - val_acc: 0.9701\n",
      "Epoch 17/40\n",
      "110288/110288 [==============================] - 12s - loss: 0.0946 - acc: 0.9739 - val_loss: nan - val_acc: 0.9707\n",
      "Epoch 18/40\n",
      "110288/110288 [==============================] - 12s - loss: 0.0883 - acc: 0.9757 - val_loss: nan - val_acc: 0.9725\n",
      "Epoch 19/40\n",
      "110288/110288 [==============================] - 12s - loss: 0.0803 - acc: 0.9780 - val_loss: nan - val_acc: 0.9756\n",
      "Epoch 20/40\n",
      "110288/110288 [==============================] - 12s - loss: 0.0732 - acc: 0.9798 - val_loss: nan - val_acc: 0.9750\n",
      "Epoch 21/40\n",
      "110288/110288 [==============================] - 12s - loss: 0.0728 - acc: 0.9797 - val_loss: nan - val_acc: 0.9765\n",
      "Epoch 22/40\n",
      "110288/110288 [==============================] - 12s - loss: 0.0658 - acc: 0.9816 - val_loss: nan - val_acc: 0.9773\n",
      "Epoch 23/40\n",
      "110288/110288 [==============================] - 12s - loss: 0.0620 - acc: 0.9827 - val_loss: nan - val_acc: 0.9784\n",
      "Epoch 24/40\n",
      "110288/110288 [==============================] - 12s - loss: 0.0564 - acc: 0.9843 - val_loss: nan - val_acc: 0.9790\n",
      "Epoch 25/40\n",
      "110288/110288 [==============================] - 12s - loss: 0.0554 - acc: 0.9845 - val_loss: nan - val_acc: 0.9803\n",
      "Epoch 26/40\n",
      "110288/110288 [==============================] - 12s - loss: 0.0503 - acc: 0.9859 - val_loss: nan - val_acc: 0.9804\n",
      "Epoch 27/40\n",
      "110288/110288 [==============================] - 12s - loss: 0.0497 - acc: 0.9860 - val_loss: nan - val_acc: 0.9799\n",
      "Epoch 28/40\n",
      "110288/110288 [==============================] - 12s - loss: 0.0512 - acc: 0.9856 - val_loss: nan - val_acc: 0.9794\n",
      "Epoch 29/40\n",
      "110288/110288 [==============================] - 12s - loss: 0.0451 - acc: 0.9872 - val_loss: nan - val_acc: 0.9823\n",
      "Epoch 30/40\n",
      "110288/110288 [==============================] - 12s - loss: 0.0415 - acc: 0.9883 - val_loss: nan - val_acc: 0.9819\n",
      "Epoch 31/40\n",
      "110288/110288 [==============================] - 12s - loss: 0.0402 - acc: 0.9886 - val_loss: nan - val_acc: 0.9824\n",
      "Epoch 32/40\n",
      "110288/110288 [==============================] - 12s - loss: 0.0369 - acc: 0.9896 - val_loss: nan - val_acc: 0.9835\n",
      "Epoch 33/40\n",
      "110288/110288 [==============================] - 12s - loss: 0.0396 - acc: 0.9887 - val_loss: nan - val_acc: 0.9755\n",
      "Epoch 34/40\n",
      "110288/110288 [==============================] - 12s - loss: 0.0427 - acc: 0.9877 - val_loss: nan - val_acc: 0.9833\n",
      "Epoch 35/40\n",
      "110288/110288 [==============================] - 12s - loss: 0.0317 - acc: 0.9911 - val_loss: nan - val_acc: 0.9838\n",
      "Epoch 36/40\n",
      "110288/110288 [==============================] - 12s - loss: 0.0351 - acc: 0.9900 - val_loss: nan - val_acc: 0.9828\n",
      "Epoch 37/40\n",
      "110288/110288 [==============================] - 12s - loss: 0.0374 - acc: 0.9893 - val_loss: nan - val_acc: 0.9840\n",
      "Epoch 38/40\n",
      "110288/110288 [==============================] - 12s - loss: 0.0282 - acc: 0.9920 - val_loss: nan - val_acc: 0.9852\n",
      "Epoch 39/40\n",
      "110288/110288 [==============================] - 12s - loss: 0.0256 - acc: 0.9928 - val_loss: nan - val_acc: 0.9845\n",
      "Epoch 40/40\n",
      "110288/110288 [==============================] - 12s - loss: 0.0254 - acc: 0.9927 - val_loss: nan - val_acc: 0.9850\n"
     ]
    }
   ],
   "source": [
    "model = fit_model(preproc_english_sentences, preproc_french_sentences, english_tokenizer, french_tokenizer)"
   ]
  },
  {
   "cell_type": "code",
   "execution_count": 127,
   "metadata": {},
   "outputs": [
    {
     "name": "stdout",
     "output_type": "stream",
     "text": [
      "Sample 1:\n",
      "il a vu un vieux camion jaune <PAD> <PAD> <PAD> <PAD> <PAD> <PAD> <PAD> <PAD> <PAD> <PAD> <PAD> <PAD> <PAD> <PAD>\n",
      "Il a vu un vieux camion jaune\n",
      "Sample 2:\n",
      "new jersey est parfois calme pendant l' automne et il est neigeux en avril <PAD> <PAD> <PAD> <PAD> <PAD> <PAD> <PAD>\n",
      "new jersey est parfois calme pendant l' automne , et il est neigeux en avril .\n"
     ]
    }
   ],
   "source": [
    "y_id_to_word = {value: key for key, value in french_tokenizer.word_index.items()}\n",
    "y_id_to_word[0] = '<PAD>'\n",
    "\n",
    "sentence = 'he saw a old yellow truck'\n",
    "sentence = [english_tokenizer.word_index[word] for word in sentence.split()]\n",
    "# sentence = pad_sequences([sentence], maxlen=preproc_english_sentences.shape[-1], padding='post')\n",
    "sentences = np.array([sentence, preproc_english_sentences[0]])\n",
    "pad_sentences = pad(sentences, 21)\n",
    "\n",
    "predictions = model.predict(pad_sentences, len(sentences))\n",
    "\n",
    "print('Sample 1:')\n",
    "print(' '.join([y_id_to_word[np.argmax(x)] for x in predictions[0]]))\n",
    "print('Il a vu un vieux camion jaune')\n",
    "print('Sample 2:')\n",
    "print(' '.join([y_id_to_word[np.argmax(x)] for x in predictions[1]]))\n",
    "# print(' '.join([y_id_to_word[np.argmax(x)] for x in preproc_french_sentences[0]]))\n",
    "print(french_sentences[0])"
   ]
  },
  {
   "cell_type": "markdown",
   "metadata": {},
   "source": [
    "## Submission\n",
    "When you are ready to submit your project, do the following steps:\n",
    "1. Ensure you pass all points on the [rubric](https://review.udacity.com/#!/rubrics/1004/view).\n",
    "2. Submit the following in a zip file.\n",
    "  - `helper.py`\n",
    "  - `machine_translation.ipynb`\n",
    "  - `machine_translation.html`\n",
    "    - You can export the notebook by navigating to **File -> Download as -> HTML (.html)**."
   ]
  }
 ],
 "metadata": {
  "anaconda-cloud": {},
  "kernelspec": {
   "display_name": "Python 3",
   "language": "python",
   "name": "python3"
  },
  "language_info": {
   "codemirror_mode": {
    "name": "ipython",
    "version": 3
   },
   "file_extension": ".py",
   "mimetype": "text/x-python",
   "name": "python",
   "nbconvert_exporter": "python",
   "pygments_lexer": "ipython3",
   "version": "3.6.1"
  }
 },
 "nbformat": 4,
 "nbformat_minor": 1
}
